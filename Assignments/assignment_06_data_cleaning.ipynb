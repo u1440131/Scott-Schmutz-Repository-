{
  "cells": [
    {
      "cell_type": "markdown",
      "metadata": {
        "id": "avCbnNj5RTDb"
      },
      "source": [
        "# IS 4487 Assignment 6: Data Cleaning with Airbnb Listings\n",
        "\n",
        "In this assignment, you will:\n",
        "- Load a raw Airbnb listings dataset\n",
        "- Identify and resolve missing or inconsistent data\n",
        "- Decide what data to drop, keep, or clean\n",
        "- Save a clean dataset to use in Assignment 7\n",
        "\n",
        "## Why This Matters\n",
        "\n",
        "Data cleaning is one of the most important steps in any analysis — but it's often the least visible. Airbnb hosts, managers, and policy teams rely on clean data to make decisions. This assignment gives you experience cleaning raw data and justifying your choices so others can understand your process.\n",
        "\n",
        "<a href=\"https://colab.research.google.com/github/Stan-Pugsley/is_4487_base/blob/main/Assignments/assignment_06_data_cleaning.ipynb\" target=\"_parent\">\n",
        "  <img src=\"https://colab.research.google.com/assets/colab-badge.svg\" alt=\"Open In Colab\"/>\n",
        "</a>\n",
        "\n"
      ]
    },
    {
      "cell_type": "markdown",
      "metadata": {
        "id": "-YtEOclERnZ8"
      },
      "source": [
        "## Dataset Description\n",
        "\n",
        "The dataset you'll be using is a **detailed Airbnb listing file**, available from [Inside Airbnb](https://insideairbnb.com/get-the-data/).\n",
        "\n",
        "Each row represents one property listing. The columns include:\n",
        "\n",
        "- **Host attributes** (e.g., host ID, host name, host response time)\n",
        "- **Listing details** (e.g., price, room type, minimum nights, availability)\n",
        "- **Location data** (e.g., neighborhood, latitude/longitude)\n",
        "- **Property characteristics** (e.g., number of bedrooms, amenities, accommodates)\n",
        "- **Calendar/booking variables** (e.g., last review date, number of reviews)\n",
        "\n",
        "📌 The schema is consistent across cities, so you can expect similar columns regardless of the location you choose.\n"
      ]
    },
    {
      "cell_type": "markdown",
      "metadata": {
        "id": "Rl-WZK3kRs_9"
      },
      "source": [
        "## 1. Choose a City & Upload Your Dataset\n",
        "\n",
        "📥 Follow these steps:\n",
        "\n",
        "1. Go to: [https://insideairbnb.com/get-the-data/](https://insideairbnb.com/get-the-data/)\n",
        "2. Choose a city you’re interested in.\n",
        "3. Download the file named: **`listings.csv.gz`** under that city.\n",
        "4. In your notebook:\n",
        "   - Open the left sidebar\n",
        "   - Click the folder icon 📁\n",
        "   - Click the upload icon ⬆️ and choose your `listings.csv.gz` file\n",
        "5. Use the file path `/content/listings.csv.gz` when loading your data.\n",
        "6. Import standard libraries (`pandas`, `numpy`, `seaborn`, `matplotlib`)\n"
      ]
    },
    {
      "cell_type": "code",
      "source": [],
      "metadata": {
        "id": "ujdHdEXAjR3s"
      },
      "execution_count": 1,
      "outputs": []
    },
    {
      "cell_type": "code",
      "source": [],
      "metadata": {
        "id": "BFjyxYnuja5D"
      },
      "execution_count": 2,
      "outputs": []
    },
    {
      "cell_type": "code",
      "source": [],
      "metadata": {
        "id": "jEdKWsN2jiOA"
      },
      "execution_count": 3,
      "outputs": []
    },
    {
      "cell_type": "code",
      "source": [],
      "metadata": {
        "id": "Rzns2PTKjoFS"
      },
      "execution_count": null,
      "outputs": []
    },
    {
      "cell_type": "code",
      "source": [],
      "metadata": {
        "colab": {
          "base_uri": "https://localhost:8080/",
          "height": 516
        },
        "id": "i1gG-O-lj0XX",
        "outputId": "27d2f6b8-ae09-40d2-f8e0-4de8eb081cd7"
      },
      "execution_count": 4,
      "outputs": [
        {
          "output_type": "display_data",
          "data": {
            "text/plain": [
              "     id                        listing_url       scrape_id last_scraped  \\\n",
              "0  5456  https://www.airbnb.com/rooms/5456  20250613040113   2025-06-13   \n",
              "1  5769  https://www.airbnb.com/rooms/5769  20250613040113   2025-06-13   \n",
              "2  6413  https://www.airbnb.com/rooms/6413  20250613040113   2025-06-14   \n",
              "3  6448  https://www.airbnb.com/rooms/6448  20250613040113   2025-06-13   \n",
              "4  8502  https://www.airbnb.com/rooms/8502  20250613040113   2025-06-13   \n",
              "\n",
              "            source                                               name  \\\n",
              "0      city scrape          Walk to 6th, Rainey St and Convention Ctr   \n",
              "1      city scrape                                     NW Austin Room   \n",
              "2  previous scrape                      Gem of a Studio near Downtown   \n",
              "3      city scrape  Secluded Studio @ Zilker - King Bed, Bright & ...   \n",
              "4      city scrape                            Woodland Studio Lodging   \n",
              "\n",
              "                                         description  \\\n",
              "0  Great central  location for walking to Convent...   \n",
              "1                                                NaN   \n",
              "2  Great studio apartment, perfect a single perso...   \n",
              "3  Clean, private space with everything you need ...   \n",
              "4  Studio rental on lower level of home located i...   \n",
              "\n",
              "                               neighborhood_overview  \\\n",
              "0  My neighborhood is ideally located if you want...   \n",
              "1  Quiet neighborhood with lots of trees and good...   \n",
              "2  Travis Heights is one of the oldest neighborho...   \n",
              "3  The neighborhood is fun and funky (but quiet)!...   \n",
              "4                                                NaN   \n",
              "\n",
              "                                         picture_url  host_id  ...  \\\n",
              "0  https://a0.muscache.com/pictures/14084884/b5a3...     8028  ...   \n",
              "1  https://a0.muscache.com/pictures/23822033/ac94...     8186  ...   \n",
              "2  https://a0.muscache.com/pictures/hosting/Hosti...    13879  ...   \n",
              "3  https://a0.muscache.com/pictures/airflow/Hosti...    14156  ...   \n",
              "4  https://a0.muscache.com/pictures/miso/Hosting-...    25298  ...   \n",
              "\n",
              "  review_scores_communication review_scores_location review_scores_value  \\\n",
              "0                        4.82                   4.73                4.79   \n",
              "1                        4.94                   4.77                4.92   \n",
              "2                        4.98                   4.87                4.93   \n",
              "3                        4.98                   4.97                4.88   \n",
              "4                        4.88                   4.69                4.63   \n",
              "\n",
              "  license instant_bookable calculated_host_listings_count  \\\n",
              "0     NaN                f                              1   \n",
              "1     NaN                f                              1   \n",
              "2     NaN                f                              1   \n",
              "3     NaN                t                              1   \n",
              "4     NaN                f                              1   \n",
              "\n",
              "  calculated_host_listings_count_entire_homes  \\\n",
              "0                                           1   \n",
              "1                                           0   \n",
              "2                                           1   \n",
              "3                                           1   \n",
              "4                                           1   \n",
              "\n",
              "  calculated_host_listings_count_private_rooms  \\\n",
              "0                                            0   \n",
              "1                                            1   \n",
              "2                                            0   \n",
              "3                                            0   \n",
              "4                                            0   \n",
              "\n",
              "  calculated_host_listings_count_shared_rooms reviews_per_month  \n",
              "0                                           0              3.59  \n",
              "1                                           0              1.65  \n",
              "2                                           0              0.65  \n",
              "3                                           0              2.02  \n",
              "4                                           0              0.29  \n",
              "\n",
              "[5 rows x 79 columns]"
            ],
            "text/html": [
              "\n",
              "  <div id=\"df-c246e7ea-b8d7-454e-8225-3ee533384a60\" class=\"colab-df-container\">\n",
              "    <div>\n",
              "<style scoped>\n",
              "    .dataframe tbody tr th:only-of-type {\n",
              "        vertical-align: middle;\n",
              "    }\n",
              "\n",
              "    .dataframe tbody tr th {\n",
              "        vertical-align: top;\n",
              "    }\n",
              "\n",
              "    .dataframe thead th {\n",
              "        text-align: right;\n",
              "    }\n",
              "</style>\n",
              "<table border=\"1\" class=\"dataframe\">\n",
              "  <thead>\n",
              "    <tr style=\"text-align: right;\">\n",
              "      <th></th>\n",
              "      <th>id</th>\n",
              "      <th>listing_url</th>\n",
              "      <th>scrape_id</th>\n",
              "      <th>last_scraped</th>\n",
              "      <th>source</th>\n",
              "      <th>name</th>\n",
              "      <th>description</th>\n",
              "      <th>neighborhood_overview</th>\n",
              "      <th>picture_url</th>\n",
              "      <th>host_id</th>\n",
              "      <th>...</th>\n",
              "      <th>review_scores_communication</th>\n",
              "      <th>review_scores_location</th>\n",
              "      <th>review_scores_value</th>\n",
              "      <th>license</th>\n",
              "      <th>instant_bookable</th>\n",
              "      <th>calculated_host_listings_count</th>\n",
              "      <th>calculated_host_listings_count_entire_homes</th>\n",
              "      <th>calculated_host_listings_count_private_rooms</th>\n",
              "      <th>calculated_host_listings_count_shared_rooms</th>\n",
              "      <th>reviews_per_month</th>\n",
              "    </tr>\n",
              "  </thead>\n",
              "  <tbody>\n",
              "    <tr>\n",
              "      <th>0</th>\n",
              "      <td>5456</td>\n",
              "      <td>https://www.airbnb.com/rooms/5456</td>\n",
              "      <td>20250613040113</td>\n",
              "      <td>2025-06-13</td>\n",
              "      <td>city scrape</td>\n",
              "      <td>Walk to 6th, Rainey St and Convention Ctr</td>\n",
              "      <td>Great central  location for walking to Convent...</td>\n",
              "      <td>My neighborhood is ideally located if you want...</td>\n",
              "      <td>https://a0.muscache.com/pictures/14084884/b5a3...</td>\n",
              "      <td>8028</td>\n",
              "      <td>...</td>\n",
              "      <td>4.82</td>\n",
              "      <td>4.73</td>\n",
              "      <td>4.79</td>\n",
              "      <td>NaN</td>\n",
              "      <td>f</td>\n",
              "      <td>1</td>\n",
              "      <td>1</td>\n",
              "      <td>0</td>\n",
              "      <td>0</td>\n",
              "      <td>3.59</td>\n",
              "    </tr>\n",
              "    <tr>\n",
              "      <th>1</th>\n",
              "      <td>5769</td>\n",
              "      <td>https://www.airbnb.com/rooms/5769</td>\n",
              "      <td>20250613040113</td>\n",
              "      <td>2025-06-13</td>\n",
              "      <td>city scrape</td>\n",
              "      <td>NW Austin Room</td>\n",
              "      <td>NaN</td>\n",
              "      <td>Quiet neighborhood with lots of trees and good...</td>\n",
              "      <td>https://a0.muscache.com/pictures/23822033/ac94...</td>\n",
              "      <td>8186</td>\n",
              "      <td>...</td>\n",
              "      <td>4.94</td>\n",
              "      <td>4.77</td>\n",
              "      <td>4.92</td>\n",
              "      <td>NaN</td>\n",
              "      <td>f</td>\n",
              "      <td>1</td>\n",
              "      <td>0</td>\n",
              "      <td>1</td>\n",
              "      <td>0</td>\n",
              "      <td>1.65</td>\n",
              "    </tr>\n",
              "    <tr>\n",
              "      <th>2</th>\n",
              "      <td>6413</td>\n",
              "      <td>https://www.airbnb.com/rooms/6413</td>\n",
              "      <td>20250613040113</td>\n",
              "      <td>2025-06-14</td>\n",
              "      <td>previous scrape</td>\n",
              "      <td>Gem of a Studio near Downtown</td>\n",
              "      <td>Great studio apartment, perfect a single perso...</td>\n",
              "      <td>Travis Heights is one of the oldest neighborho...</td>\n",
              "      <td>https://a0.muscache.com/pictures/hosting/Hosti...</td>\n",
              "      <td>13879</td>\n",
              "      <td>...</td>\n",
              "      <td>4.98</td>\n",
              "      <td>4.87</td>\n",
              "      <td>4.93</td>\n",
              "      <td>NaN</td>\n",
              "      <td>f</td>\n",
              "      <td>1</td>\n",
              "      <td>1</td>\n",
              "      <td>0</td>\n",
              "      <td>0</td>\n",
              "      <td>0.65</td>\n",
              "    </tr>\n",
              "    <tr>\n",
              "      <th>3</th>\n",
              "      <td>6448</td>\n",
              "      <td>https://www.airbnb.com/rooms/6448</td>\n",
              "      <td>20250613040113</td>\n",
              "      <td>2025-06-13</td>\n",
              "      <td>city scrape</td>\n",
              "      <td>Secluded Studio @ Zilker - King Bed, Bright &amp; ...</td>\n",
              "      <td>Clean, private space with everything you need ...</td>\n",
              "      <td>The neighborhood is fun and funky (but quiet)!...</td>\n",
              "      <td>https://a0.muscache.com/pictures/airflow/Hosti...</td>\n",
              "      <td>14156</td>\n",
              "      <td>...</td>\n",
              "      <td>4.98</td>\n",
              "      <td>4.97</td>\n",
              "      <td>4.88</td>\n",
              "      <td>NaN</td>\n",
              "      <td>t</td>\n",
              "      <td>1</td>\n",
              "      <td>1</td>\n",
              "      <td>0</td>\n",
              "      <td>0</td>\n",
              "      <td>2.02</td>\n",
              "    </tr>\n",
              "    <tr>\n",
              "      <th>4</th>\n",
              "      <td>8502</td>\n",
              "      <td>https://www.airbnb.com/rooms/8502</td>\n",
              "      <td>20250613040113</td>\n",
              "      <td>2025-06-13</td>\n",
              "      <td>city scrape</td>\n",
              "      <td>Woodland Studio Lodging</td>\n",
              "      <td>Studio rental on lower level of home located i...</td>\n",
              "      <td>NaN</td>\n",
              "      <td>https://a0.muscache.com/pictures/miso/Hosting-...</td>\n",
              "      <td>25298</td>\n",
              "      <td>...</td>\n",
              "      <td>4.88</td>\n",
              "      <td>4.69</td>\n",
              "      <td>4.63</td>\n",
              "      <td>NaN</td>\n",
              "      <td>f</td>\n",
              "      <td>1</td>\n",
              "      <td>1</td>\n",
              "      <td>0</td>\n",
              "      <td>0</td>\n",
              "      <td>0.29</td>\n",
              "    </tr>\n",
              "  </tbody>\n",
              "</table>\n",
              "<p>5 rows × 79 columns</p>\n",
              "</div>\n",
              "    <div class=\"colab-df-buttons\">\n",
              "\n",
              "  <div class=\"colab-df-container\">\n",
              "    <button class=\"colab-df-convert\" onclick=\"convertToInteractive('df-c246e7ea-b8d7-454e-8225-3ee533384a60')\"\n",
              "            title=\"Convert this dataframe to an interactive table.\"\n",
              "            style=\"display:none;\">\n",
              "\n",
              "  <svg xmlns=\"http://www.w3.org/2000/svg\" height=\"24px\" viewBox=\"0 -960 960 960\">\n",
              "    <path d=\"M120-120v-720h720v720H120Zm60-500h600v-160H180v160Zm220 220h160v-160H400v160Zm0 220h160v-160H400v160ZM180-400h160v-160H180v160Zm440 0h160v-160H620v160ZM180-180h160v-160H180v160Zm440 0h160v-160H620v160Z\"/>\n",
              "  </svg>\n",
              "    </button>\n",
              "\n",
              "  <style>\n",
              "    .colab-df-container {\n",
              "      display:flex;\n",
              "      gap: 12px;\n",
              "    }\n",
              "\n",
              "    .colab-df-convert {\n",
              "      background-color: #E8F0FE;\n",
              "      border: none;\n",
              "      border-radius: 50%;\n",
              "      cursor: pointer;\n",
              "      display: none;\n",
              "      fill: #1967D2;\n",
              "      height: 32px;\n",
              "      padding: 0 0 0 0;\n",
              "      width: 32px;\n",
              "    }\n",
              "\n",
              "    .colab-df-convert:hover {\n",
              "      background-color: #E2EBFA;\n",
              "      box-shadow: 0px 1px 2px rgba(60, 64, 67, 0.3), 0px 1px 3px 1px rgba(60, 64, 67, 0.15);\n",
              "      fill: #174EA6;\n",
              "    }\n",
              "\n",
              "    .colab-df-buttons div {\n",
              "      margin-bottom: 4px;\n",
              "    }\n",
              "\n",
              "    [theme=dark] .colab-df-convert {\n",
              "      background-color: #3B4455;\n",
              "      fill: #D2E3FC;\n",
              "    }\n",
              "\n",
              "    [theme=dark] .colab-df-convert:hover {\n",
              "      background-color: #434B5C;\n",
              "      box-shadow: 0px 1px 3px 1px rgba(0, 0, 0, 0.15);\n",
              "      filter: drop-shadow(0px 1px 2px rgba(0, 0, 0, 0.3));\n",
              "      fill: #FFFFFF;\n",
              "    }\n",
              "  </style>\n",
              "\n",
              "    <script>\n",
              "      const buttonEl =\n",
              "        document.querySelector('#df-c246e7ea-b8d7-454e-8225-3ee533384a60 button.colab-df-convert');\n",
              "      buttonEl.style.display =\n",
              "        google.colab.kernel.accessAllowed ? 'block' : 'none';\n",
              "\n",
              "      async function convertToInteractive(key) {\n",
              "        const element = document.querySelector('#df-c246e7ea-b8d7-454e-8225-3ee533384a60');\n",
              "        const dataTable =\n",
              "          await google.colab.kernel.invokeFunction('convertToInteractive',\n",
              "                                                    [key], {});\n",
              "        if (!dataTable) return;\n",
              "\n",
              "        const docLinkHtml = 'Like what you see? Visit the ' +\n",
              "          '<a target=\"_blank\" href=https://colab.research.google.com/notebooks/data_table.ipynb>data table notebook</a>'\n",
              "          + ' to learn more about interactive tables.';\n",
              "        element.innerHTML = '';\n",
              "        dataTable['output_type'] = 'display_data';\n",
              "        await google.colab.output.renderOutput(dataTable, element);\n",
              "        const docLink = document.createElement('div');\n",
              "        docLink.innerHTML = docLinkHtml;\n",
              "        element.appendChild(docLink);\n",
              "      }\n",
              "    </script>\n",
              "  </div>\n",
              "\n",
              "\n",
              "    <div id=\"df-25314dd0-7534-4b37-8909-d06738c4bff4\">\n",
              "      <button class=\"colab-df-quickchart\" onclick=\"quickchart('df-25314dd0-7534-4b37-8909-d06738c4bff4')\"\n",
              "                title=\"Suggest charts\"\n",
              "                style=\"display:none;\">\n",
              "\n",
              "<svg xmlns=\"http://www.w3.org/2000/svg\" height=\"24px\"viewBox=\"0 0 24 24\"\n",
              "     width=\"24px\">\n",
              "    <g>\n",
              "        <path d=\"M19 3H5c-1.1 0-2 .9-2 2v14c0 1.1.9 2 2 2h14c1.1 0 2-.9 2-2V5c0-1.1-.9-2-2-2zM9 17H7v-7h2v7zm4 0h-2V7h2v10zm4 0h-2v-4h2v4z\"/>\n",
              "    </g>\n",
              "</svg>\n",
              "      </button>\n",
              "\n",
              "<style>\n",
              "  .colab-df-quickchart {\n",
              "      --bg-color: #E8F0FE;\n",
              "      --fill-color: #1967D2;\n",
              "      --hover-bg-color: #E2EBFA;\n",
              "      --hover-fill-color: #174EA6;\n",
              "      --disabled-fill-color: #AAA;\n",
              "      --disabled-bg-color: #DDD;\n",
              "  }\n",
              "\n",
              "  [theme=dark] .colab-df-quickchart {\n",
              "      --bg-color: #3B4455;\n",
              "      --fill-color: #D2E3FC;\n",
              "      --hover-bg-color: #434B5C;\n",
              "      --hover-fill-color: #FFFFFF;\n",
              "      --disabled-bg-color: #3B4455;\n",
              "      --disabled-fill-color: #666;\n",
              "  }\n",
              "\n",
              "  .colab-df-quickchart {\n",
              "    background-color: var(--bg-color);\n",
              "    border: none;\n",
              "    border-radius: 50%;\n",
              "    cursor: pointer;\n",
              "    display: none;\n",
              "    fill: var(--fill-color);\n",
              "    height: 32px;\n",
              "    padding: 0;\n",
              "    width: 32px;\n",
              "  }\n",
              "\n",
              "  .colab-df-quickchart:hover {\n",
              "    background-color: var(--hover-bg-color);\n",
              "    box-shadow: 0 1px 2px rgba(60, 64, 67, 0.3), 0 1px 3px 1px rgba(60, 64, 67, 0.15);\n",
              "    fill: var(--button-hover-fill-color);\n",
              "  }\n",
              "\n",
              "  .colab-df-quickchart-complete:disabled,\n",
              "  .colab-df-quickchart-complete:disabled:hover {\n",
              "    background-color: var(--disabled-bg-color);\n",
              "    fill: var(--disabled-fill-color);\n",
              "    box-shadow: none;\n",
              "  }\n",
              "\n",
              "  .colab-df-spinner {\n",
              "    border: 2px solid var(--fill-color);\n",
              "    border-color: transparent;\n",
              "    border-bottom-color: var(--fill-color);\n",
              "    animation:\n",
              "      spin 1s steps(1) infinite;\n",
              "  }\n",
              "\n",
              "  @keyframes spin {\n",
              "    0% {\n",
              "      border-color: transparent;\n",
              "      border-bottom-color: var(--fill-color);\n",
              "      border-left-color: var(--fill-color);\n",
              "    }\n",
              "    20% {\n",
              "      border-color: transparent;\n",
              "      border-left-color: var(--fill-color);\n",
              "      border-top-color: var(--fill-color);\n",
              "    }\n",
              "    30% {\n",
              "      border-color: transparent;\n",
              "      border-left-color: var(--fill-color);\n",
              "      border-top-color: var(--fill-color);\n",
              "      border-right-color: var(--fill-color);\n",
              "    }\n",
              "    40% {\n",
              "      border-color: transparent;\n",
              "      border-right-color: var(--fill-color);\n",
              "      border-top-color: var(--fill-color);\n",
              "    }\n",
              "    60% {\n",
              "      border-color: transparent;\n",
              "      border-right-color: var(--fill-color);\n",
              "    }\n",
              "    80% {\n",
              "      border-color: transparent;\n",
              "      border-right-color: var(--fill-color);\n",
              "      border-bottom-color: var(--fill-color);\n",
              "    }\n",
              "    90% {\n",
              "      border-color: transparent;\n",
              "      border-bottom-color: var(--fill-color);\n",
              "    }\n",
              "  }\n",
              "</style>\n",
              "\n",
              "      <script>\n",
              "        async function quickchart(key) {\n",
              "          const quickchartButtonEl =\n",
              "            document.querySelector('#' + key + ' button');\n",
              "          quickchartButtonEl.disabled = true;  // To prevent multiple clicks.\n",
              "          quickchartButtonEl.classList.add('colab-df-spinner');\n",
              "          try {\n",
              "            const charts = await google.colab.kernel.invokeFunction(\n",
              "                'suggestCharts', [key], {});\n",
              "          } catch (error) {\n",
              "            console.error('Error during call to suggestCharts:', error);\n",
              "          }\n",
              "          quickchartButtonEl.classList.remove('colab-df-spinner');\n",
              "          quickchartButtonEl.classList.add('colab-df-quickchart-complete');\n",
              "        }\n",
              "        (() => {\n",
              "          let quickchartButtonEl =\n",
              "            document.querySelector('#df-25314dd0-7534-4b37-8909-d06738c4bff4 button');\n",
              "          quickchartButtonEl.style.display =\n",
              "            google.colab.kernel.accessAllowed ? 'block' : 'none';\n",
              "        })();\n",
              "      </script>\n",
              "    </div>\n",
              "\n",
              "    </div>\n",
              "  </div>\n"
            ],
            "application/vnd.google.colaboratory.intrinsic+json": {
              "type": "dataframe"
            }
          },
          "metadata": {}
        }
      ]
    },
    {
      "cell_type": "code",
      "source": [],
      "metadata": {
        "id": "LrI70dSHkj0s"
      },
      "execution_count": 5,
      "outputs": []
    },
    {
      "cell_type": "markdown",
      "metadata": {
        "id": "aKeLPILuR6J8"
      },
      "source": [
        "## 2. Explore Missing Values\n",
        "\n",
        "Business framing:\n",
        "\n",
        "Stakeholders don’t like surprises in the data. Missing values can break dashboards, confuse pricing models, or create blind spots for host managers.\n",
        "\n",
        "Explore how complete your dataset is:\n",
        "- Count the null values of each column\n",
        "- Create visuals (e.g. heatmaps, boxplots, bar charts, etc) to help show what columns are missing values\n",
        "- Keep in mind which column(s) are missing too much data, you will delete these in the next step\n",
        "\n",
        "### In your markdown:\n",
        "1. What are the top 3 columns with the most missing values?\n",
        "2. Which ones are likely to create business issues?\n",
        "3. Which could be safely ignored or dropped?\n",
        "\n"
      ]
    },
    {
      "cell_type": "code",
      "source": [],
      "metadata": {
        "colab": {
          "base_uri": "https://localhost:8080/",
          "height": 458
        },
        "id": "KLsyR5gJlyCX",
        "outputId": "51615883-50e8-40e4-ad25-aac70c536a78"
      },
      "execution_count": 6,
      "outputs": [
        {
          "output_type": "display_data",
          "data": {
            "text/plain": [
              "id                                                 0\n",
              "listing_url                                        0\n",
              "scrape_id                                          0\n",
              "last_scraped                                       0\n",
              "source                                             0\n",
              "                                                ... \n",
              "calculated_host_listings_count                     0\n",
              "calculated_host_listings_count_entire_homes        0\n",
              "calculated_host_listings_count_private_rooms       0\n",
              "calculated_host_listings_count_shared_rooms        0\n",
              "reviews_per_month                               2911\n",
              "Length: 79, dtype: int64"
            ],
            "text/html": [
              "<div>\n",
              "<style scoped>\n",
              "    .dataframe tbody tr th:only-of-type {\n",
              "        vertical-align: middle;\n",
              "    }\n",
              "\n",
              "    .dataframe tbody tr th {\n",
              "        vertical-align: top;\n",
              "    }\n",
              "\n",
              "    .dataframe thead th {\n",
              "        text-align: right;\n",
              "    }\n",
              "</style>\n",
              "<table border=\"1\" class=\"dataframe\">\n",
              "  <thead>\n",
              "    <tr style=\"text-align: right;\">\n",
              "      <th></th>\n",
              "      <th>0</th>\n",
              "    </tr>\n",
              "  </thead>\n",
              "  <tbody>\n",
              "    <tr>\n",
              "      <th>id</th>\n",
              "      <td>0</td>\n",
              "    </tr>\n",
              "    <tr>\n",
              "      <th>listing_url</th>\n",
              "      <td>0</td>\n",
              "    </tr>\n",
              "    <tr>\n",
              "      <th>scrape_id</th>\n",
              "      <td>0</td>\n",
              "    </tr>\n",
              "    <tr>\n",
              "      <th>last_scraped</th>\n",
              "      <td>0</td>\n",
              "    </tr>\n",
              "    <tr>\n",
              "      <th>source</th>\n",
              "      <td>0</td>\n",
              "    </tr>\n",
              "    <tr>\n",
              "      <th>...</th>\n",
              "      <td>...</td>\n",
              "    </tr>\n",
              "    <tr>\n",
              "      <th>calculated_host_listings_count</th>\n",
              "      <td>0</td>\n",
              "    </tr>\n",
              "    <tr>\n",
              "      <th>calculated_host_listings_count_entire_homes</th>\n",
              "      <td>0</td>\n",
              "    </tr>\n",
              "    <tr>\n",
              "      <th>calculated_host_listings_count_private_rooms</th>\n",
              "      <td>0</td>\n",
              "    </tr>\n",
              "    <tr>\n",
              "      <th>calculated_host_listings_count_shared_rooms</th>\n",
              "      <td>0</td>\n",
              "    </tr>\n",
              "    <tr>\n",
              "      <th>reviews_per_month</th>\n",
              "      <td>2911</td>\n",
              "    </tr>\n",
              "  </tbody>\n",
              "</table>\n",
              "<p>79 rows × 1 columns</p>\n",
              "</div><br><label><b>dtype:</b> int64</label>"
            ]
          },
          "metadata": {}
        }
      ]
    },
    {
      "cell_type": "code",
      "source": [],
      "metadata": {
        "colab": {
          "base_uri": "https://localhost:8080/",
          "height": 603
        },
        "id": "oEnqhnq-l8ii",
        "outputId": "fda2e879-aafd-4801-8057-0df9d16d02c6"
      },
      "execution_count": 7,
      "outputs": [
        {
          "output_type": "display_data",
          "data": {
            "text/plain": [
              "<Figure size 1500x700 with 1 Axes>"
            ],
            "image/png": "[encoded data removed]"
          },
          "metadata": {}
        }
      ]
    },
    {
      "cell_type": "code",
      "source": [],
      "metadata": {
        "id": "8sMbGwDCme8-"
      },
      "execution_count": null,
      "outputs": []
    },
    {
      "cell_type": "markdown",
      "metadata": {
        "id": "2R5FRgTbGY9G"
      },
      "source": [
        "The top three columns with the most missing values are calendar_updated, license, and neighbourhood_group_cleansed.\n",
        "\n",
        "\n",
        "Calendar_updated and license are likely to create business issues for Airbnb. Hosts need to have a license in order to rent out their property, to be in compliance with local law. Calendar updated is important because it lets Airbnb know when a host has made a change to available dates, listing settings, or synced their calendar with another platform. This is helpful for Airbnb to know.\n",
        "\n",
        "Neighbourhood_group_cleansed could be dropped. Host_about could also be dropped, as this information is not imperative to the business at all.\n"
      ]
    },
    {
      "cell_type": "markdown",
      "metadata": {
        "id": "4LCyzSZ8R-MI"
      },
      "source": [
        "## 3. Drop Columns That Aren’t Useful\n",
        "\n",
        "Business framing:  \n",
        "\n",
        "Not every column adds value. Analysts often remove columns that are too empty, irrelevant, or repetitive — especially when preparing data for others.\n",
        "\n",
        "Make a decision:\n",
        "\n",
        "- Choose 2–4 columns to drop from your dataset\n",
        "- Document your reasons for each one\n",
        "- Confirm they're gone with `.head()` or `.info()`\n",
        "\n",
        "### In Your Response:\n",
        "1. Which columns did you drop?\n",
        "2. Why were they not useful from a business perspective?\n",
        "3. What could go wrong if you left them in?\n",
        "\n"
      ]
    },
    {
      "cell_type": "code",
      "execution_count": 11,
      "metadata": {
        "id": "GvQDqSfPSD-3"
      },
      "outputs": [],
      "source": []
    },
    {
      "cell_type": "code",
      "source": [],
      "metadata": {
        "id": "xays8HqNqdp8"
      },
      "execution_count": 12,
      "outputs": []
    },
    {
      "cell_type": "code",
      "source": [],
      "metadata": {
        "colab": {
          "base_uri": "https://localhost:8080/"
        },
        "id": "C5tQ3j2Nqk_l",
        "outputId": "de7ee32c-8d04-460d-c690-8278c649e558"
      },
      "execution_count": 13,
      "outputs": [
        {
          "output_type": "stream",
          "name": "stdout",
          "text": [
            "<class 'pandas.core.frame.DataFrame'>\n",
            "RangeIndex: 15187 entries, 0 to 15186\n",
            "Data columns (total 77 columns):\n",
            " #   Column                                        Non-Null Count  Dtype  \n",
            "---  ------                                        --------------  -----  \n",
            " 0   id                                            15187 non-null  int64  \n",
            " 1   listing_url                                   15187 non-null  object \n",
            " 2   scrape_id                                     15187 non-null  int64  \n",
            " 3   last_scraped                                  15187 non-null  object \n",
            " 4   source                                        15187 non-null  object \n",
            " 5   name                                          15187 non-null  object \n",
            " 6   description                                   14840 non-null  object \n",
            " 7   neighborhood_overview                         7914 non-null   object \n",
            " 8   picture_url                                   15186 non-null  object \n",
            " 9   host_id                                       15187 non-null  int64  \n",
            " 10  host_url                                      15187 non-null  object \n",
            " 11  host_name                                     15185 non-null  object \n",
            " 12  host_since                                    15185 non-null  object \n",
            " 13  host_location                                 12620 non-null  object \n",
            " 14  host_response_time                            10868 non-null  object \n",
            " 15  host_response_rate                            10868 non-null  object \n",
            " 16  host_acceptance_rate                          11688 non-null  object \n",
            " 17  host_is_superhost                             14709 non-null  object \n",
            " 18  host_thumbnail_url                            15185 non-null  object \n",
            " 19  host_picture_url                              15185 non-null  object \n",
            " 20  host_neighbourhood                            13558 non-null  object \n",
            " 21  host_listings_count                           15185 non-null  float64\n",
            " 22  host_total_listings_count                     15185 non-null  float64\n",
            " 23  host_verifications                            15185 non-null  object \n",
            " 24  host_has_profile_pic                          15185 non-null  object \n",
            " 25  host_identity_verified                        15185 non-null  object \n",
            " 26  neighbourhood                                 7914 non-null   object \n",
            " 27  neighbourhood_cleansed                        15187 non-null  int64  \n",
            " 28  latitude                                      15187 non-null  float64\n",
            " 29  longitude                                     15187 non-null  float64\n",
            " 30  property_type                                 15187 non-null  object \n",
            " 31  room_type                                     15187 non-null  object \n",
            " 32  accommodates                                  15187 non-null  int64  \n",
            " 33  bathrooms                                     10714 non-null  float64\n",
            " 34  bathrooms_text                                15173 non-null  object \n",
            " 35  bedrooms                                      14248 non-null  float64\n",
            " 36  beds                                          10696 non-null  float64\n",
            " 37  amenities                                     15187 non-null  object \n",
            " 38  price                                         10708 non-null  object \n",
            " 39  minimum_nights                                15187 non-null  int64  \n",
            " 40  maximum_nights                                15187 non-null  int64  \n",
            " 41  minimum_minimum_nights                        15187 non-null  int64  \n",
            " 42  maximum_minimum_nights                        15187 non-null  int64  \n",
            " 43  minimum_maximum_nights                        15187 non-null  int64  \n",
            " 44  maximum_maximum_nights                        15187 non-null  int64  \n",
            " 45  minimum_nights_avg_ntm                        15187 non-null  float64\n",
            " 46  maximum_nights_avg_ntm                        15187 non-null  float64\n",
            " 47  calendar_updated                              0 non-null      float64\n",
            " 48  has_availability                              13856 non-null  object \n",
            " 49  availability_30                               15187 non-null  int64  \n",
            " 50  availability_60                               15187 non-null  int64  \n",
            " 51  availability_90                               15187 non-null  int64  \n",
            " 52  availability_365                              15187 non-null  int64  \n",
            " 53  calendar_last_scraped                         15187 non-null  object \n",
            " 54  number_of_reviews                             15187 non-null  int64  \n",
            " 55  number_of_reviews_ltm                         15187 non-null  int64  \n",
            " 56  number_of_reviews_l30d                        15187 non-null  int64  \n",
            " 57  availability_eoy                              15187 non-null  int64  \n",
            " 58  number_of_reviews_ly                          15187 non-null  int64  \n",
            " 59  estimated_occupancy_l365d                     15187 non-null  int64  \n",
            " 60  estimated_revenue_l365d                       10708 non-null  float64\n",
            " 61  first_review                                  12276 non-null  object \n",
            " 62  last_review                                   12276 non-null  object \n",
            " 63  review_scores_rating                          12276 non-null  float64\n",
            " 64  review_scores_accuracy                        12276 non-null  float64\n",
            " 65  review_scores_cleanliness                     12276 non-null  float64\n",
            " 66  review_scores_checkin                         12275 non-null  float64\n",
            " 67  review_scores_communication                   12276 non-null  float64\n",
            " 68  review_scores_location                        12274 non-null  float64\n",
            " 69  review_scores_value                           12274 non-null  float64\n",
            " 70  license                                       0 non-null      float64\n",
            " 71  instant_bookable                              15187 non-null  object \n",
            " 72  calculated_host_listings_count                15187 non-null  int64  \n",
            " 73  calculated_host_listings_count_entire_homes   15187 non-null  int64  \n",
            " 74  calculated_host_listings_count_private_rooms  15187 non-null  int64  \n",
            " 75  calculated_host_listings_count_shared_rooms   15187 non-null  int64  \n",
            " 76  reviews_per_month                             12276 non-null  float64\n",
            "dtypes: float64(20), int64(25), object(32)\n",
            "memory usage: 8.9+ MB\n"
          ]
        }
      ]
    },
    {
      "cell_type": "markdown",
      "metadata": {
        "id": "WWR4HiV9GJVY"
      },
      "source": [
        "I dropped the host_about column and the neighbourhood_group_cleansed column.\n",
        "\n",
        "These were not useful from a business perspective because host_about contains information about property hosts, which we don't necessarily need to know. We are worried about booking patterns and financials, not demographics of hosts. The second column I dropped was referring to neighborhood data being cleaned and prepared to be used for future data analysis. This was essentially irrelevant from a business point of view.\n",
        "\n",
        "If these columns were left in, the data would be more complicated than it needed to be. Taking these out allows for cleaner, simpler data to work with.\n",
        "\n",
        "\n",
        "\n"
      ]
    },
    {
      "cell_type": "markdown",
      "metadata": {
        "id": "0CtWLg_LSHNd"
      },
      "source": [
        "## 4. Fill or Fix Values in Key Columns\n",
        "\n",
        "Business framing:  \n",
        "\n",
        "Let’s say your manager wants to see a map of listings with prices and review scores. If key fields are blank, the map won’t work. But not all missing values should be filled the same way.\n",
        "\n",
        "- Choose 2 columns with missing values\n",
        "- Use a strategy to fill or flag those values\n",
        "  - (e.g., median, “unknown”, forward-fill, or a placeholder)\n",
        "- Explain what you did and why\n",
        "\n",
        "### In your response:\n",
        "1. What two columns did you clean?\n",
        "2. What method did you use for each, and why?\n",
        "3. What risks are there in how you filled the data?"
      ]
    },
    {
      "cell_type": "code",
      "source": [],
      "metadata": {
        "colab": {
          "base_uri": "https://localhost:8080/"
        },
        "id": "WSHupV3Zs4jY",
        "outputId": "1bbd7c0e-214f-41d3-da09-fb4de1e988f2"
      },
      "execution_count": 14,
      "outputs": [
        {
          "output_type": "stream",
          "name": "stdout",
          "text": [
            "Missing values in 'price' after filling: 0\n"
          ]
        },
        {
          "output_type": "stream",
          "name": "stderr",
          "text": [
            "/tmp/ipython-input-3132823169.py:9: FutureWarning: A value is trying to be set on a copy of a DataFrame or Series through chained assignment using an inplace method.\n",
            "The behavior will change in pandas 3.0. This inplace method will never work because the intermediate object on which we are setting values always behaves as a copy.\n",
            "\n",
            "For example, when doing 'df[col].method(value, inplace=True)', try using 'df.method({col: value}, inplace=True)' or df[col] = df[col].method(value) instead, to perform the operation inplace on the original object.\n",
            "\n",
            "\n",
            "  df['price'].fillna(median_price, inplace=True)\n"
          ]
        }
      ]
    },
    {
      "cell_type": "code",
      "source": [],
      "metadata": {
        "colab": {
          "base_uri": "https://localhost:8080/"
        },
        "id": "tC0gNCM5tu9K",
        "outputId": "43062ca3-b6c2-4758-9363-f49db0caadfc"
      },
      "execution_count": 15,
      "outputs": [
        {
          "output_type": "stream",
          "name": "stdout",
          "text": [
            "Missing values in 'beds' after filling: 0\n"
          ]
        },
        {
          "output_type": "stream",
          "name": "stderr",
          "text": [
            "/tmp/ipython-input-3001946115.py:5: FutureWarning: A value is trying to be set on a copy of a DataFrame or Series through chained assignment using an inplace method.\n",
            "The behavior will change in pandas 3.0. This inplace method will never work because the intermediate object on which we are setting values always behaves as a copy.\n",
            "\n",
            "For example, when doing 'df[col].method(value, inplace=True)', try using 'df.method({col: value}, inplace=True)' or df[col] = df[col].method(value) instead, to perform the operation inplace on the original object.\n",
            "\n",
            "\n",
            "  df['beds'].fillna(median_beds, inplace=True)\n"
          ]
        }
      ]
    },
    {
      "cell_type": "markdown",
      "metadata": {
        "id": "u1B2QQbZNoSj"
      },
      "source": [
        "I cleaned the \"beds\" column and the \"price\" column.  \n",
        "\n",
        "For both of these, I filled the missing values with the median value in each column. I believe this is a safe, solid approach that safeguards against extreme outliers, and resolves the missing values issue. Other methods, such as labeling missing values as \"unknown\" is not necessary for things like beds and price, as the median values will likely be very close to the actual values in these columns. I felt comfortable putting in the median.\n",
        "\n",
        "This approach does not come without risk. I risk having slightly incorrect data in these columns when using this approach, but I am confident it will be very close to the actual numbers. Median is safer than mean, as it is not influenced by extreme outliers. It is still a guess though, and that is never completely safe. There is risk in this regard using this approach.\n"
      ]
    },
    {
      "cell_type": "markdown",
      "metadata": {
        "id": "YmpUrgLVSNcl"
      },
      "source": [
        "## 5. Convert and Clean Data Types\n",
        "\n",
        "Business framing:  \n",
        "\n",
        "Sometimes columns that look like numbers are actually stored as text — which breaks calculations and slows down analysis. Common examples are price columns with dollar signs or availability stored as strings.\n",
        "\n",
        "- Identify one column with the wrong data type\n",
        "- Clean and convert it into a usable format (e.g., from string to number)\n",
        "- Check your work by summarizing or plotting the cleaned column\n",
        "\n",
        "### In Your Response: :\n",
        "1. What column did you fix?\n",
        "2. What cleaning steps did you apply?\n",
        "3. How does this help prepare the data for later use?\n"
      ]
    },
    {
      "cell_type": "code",
      "source": [],
      "metadata": {
        "colab": {
          "base_uri": "https://localhost:8080/",
          "height": 35
        },
        "id": "JbBtugbjwt6S",
        "outputId": "b9ba0b20-4a1a-4b96-9524-f120078b7f85"
      },
      "execution_count": 18,
      "outputs": [
        {
          "output_type": "display_data",
          "data": {
            "text/plain": [
              "dtype('O')"
            ]
          },
          "metadata": {}
        }
      ]
    },
    {
      "cell_type": "code",
      "source": [],
      "metadata": {
        "colab": {
          "base_uri": "https://localhost:8080/",
          "height": 35
        },
        "id": "roPAT9TnxZGv",
        "outputId": "44f1987d-ccd6-43c6-bb18-deccba86ac3b"
      },
      "execution_count": 19,
      "outputs": [
        {
          "output_type": "display_data",
          "data": {
            "text/plain": [
              "dtype('float64')"
            ]
          },
          "metadata": {}
        }
      ]
    },
    {
      "cell_type": "code",
      "source": [],
      "metadata": {
        "colab": {
          "base_uri": "https://localhost:8080/",
          "height": 335
        },
        "id": "_-9ZTIb2xmdP",
        "outputId": "1c6d3068-1271-4400-fb57-15a54aa23928"
      },
      "execution_count": 20,
      "outputs": [
        {
          "output_type": "display_data",
          "data": {
            "text/plain": [
              "count    11688.000000\n",
              "mean        88.156571\n",
              "std         23.296419\n",
              "min          0.000000\n",
              "25%         90.000000\n",
              "50%         99.000000\n",
              "75%        100.000000\n",
              "max        100.000000\n",
              "Name: host_acceptance_rate, dtype: float64"
            ],
            "text/html": [
              "<div>\n",
              "<style scoped>\n",
              "    .dataframe tbody tr th:only-of-type {\n",
              "        vertical-align: middle;\n",
              "    }\n",
              "\n",
              "    .dataframe tbody tr th {\n",
              "        vertical-align: top;\n",
              "    }\n",
              "\n",
              "    .dataframe thead th {\n",
              "        text-align: right;\n",
              "    }\n",
              "</style>\n",
              "<table border=\"1\" class=\"dataframe\">\n",
              "  <thead>\n",
              "    <tr style=\"text-align: right;\">\n",
              "      <th></th>\n",
              "      <th>host_acceptance_rate</th>\n",
              "    </tr>\n",
              "  </thead>\n",
              "  <tbody>\n",
              "    <tr>\n",
              "      <th>count</th>\n",
              "      <td>11688.000000</td>\n",
              "    </tr>\n",
              "    <tr>\n",
              "      <th>mean</th>\n",
              "      <td>88.156571</td>\n",
              "    </tr>\n",
              "    <tr>\n",
              "      <th>std</th>\n",
              "      <td>23.296419</td>\n",
              "    </tr>\n",
              "    <tr>\n",
              "      <th>min</th>\n",
              "      <td>0.000000</td>\n",
              "    </tr>\n",
              "    <tr>\n",
              "      <th>25%</th>\n",
              "      <td>90.000000</td>\n",
              "    </tr>\n",
              "    <tr>\n",
              "      <th>50%</th>\n",
              "      <td>99.000000</td>\n",
              "    </tr>\n",
              "    <tr>\n",
              "      <th>75%</th>\n",
              "      <td>100.000000</td>\n",
              "    </tr>\n",
              "    <tr>\n",
              "      <th>max</th>\n",
              "      <td>100.000000</td>\n",
              "    </tr>\n",
              "  </tbody>\n",
              "</table>\n",
              "</div><br><label><b>dtype:</b> float64</label>"
            ]
          },
          "metadata": {}
        }
      ]
    },
    {
      "cell_type": "markdown",
      "metadata": {
        "id": "2QznnHuPGxdq"
      },
      "source": [
        "I fixed the host_acceptance_rate column. I already fixed the price column in section 4. This would have been my first pick had I not fixed it previously. The host_acceptance_rate column was not in numerical format how it should have been.\n",
        "\n",
        "I converted the host_acceptance_rate column to numeric values from text. I removed the % sign, and was left with just numbers from 0-100. This is much easier to work with than text.\n",
        "\n",
        "In the future, I can just work with the numbers instead of worrying about converting the text. This makes the data much easier to work with in the future. Numbers are so much easier to work with than text."
      ]
    },
    {
      "cell_type": "markdown",
      "metadata": {
        "id": "Zvsas_ckG6-u"
      },
      "source": [
        "## 6. Remove Duplicate Records\n",
        "\n",
        "Business framing:  \n",
        "\n",
        "If a listing appears twice, it could inflate revenue estimates or confuse users. Airbnb needs each listing to be unique and accurate.\n",
        "\n",
        "- Check for rows that are exact duplicates\n",
        "- If your data has an ID column and each ID is supposed to unique, then make sure there are no duplicate IDs\n",
        "- Remove duplicates if found\n",
        "\n",
        "### In your markdown:\n",
        "1. Did you find duplicates?\n",
        "2. How did you decide what to drop or keep?\n",
        "3. Why are duplicates risky for Airbnb teams?\n"
      ]
    },
    {
      "cell_type": "code",
      "execution_count": 21,
      "metadata": {
        "id": "0KyeZUR0G_Tk",
        "colab": {
          "base_uri": "https://localhost:8080/"
        },
        "outputId": "36124ffb-b9bb-4de8-c7b4-f3480f1fad95"
      },
      "outputs": [
        {
          "output_type": "stream",
          "name": "stdout",
          "text": [
            "Number of exact duplicate rows: 0\n"
          ]
        }
      ],
      "source": []
    },
    {
      "cell_type": "code",
      "source": [],
      "metadata": {
        "colab": {
          "base_uri": "https://localhost:8080/"
        },
        "id": "ED-kejGT0puO",
        "outputId": "f48a4a1f-39e4-4c17-8d43-b3199bbe4f1c"
      },
      "execution_count": 22,
      "outputs": [
        {
          "output_type": "stream",
          "name": "stdout",
          "text": [
            "Number of duplicate IDs: 0\n"
          ]
        }
      ]
    },
    {
      "cell_type": "markdown",
      "metadata": {
        "id": "OuTQ2nMAHBIO"
      },
      "source": [
        "I did not find any duplicate rows, or duplicate ID's. This is a great sign for data quality.\n",
        "\n",
        "I did not need to decide what to keep/drop, because I found no duplicates. If I did find duplicates, I would remove exact duplicate rows. I would need to look closer at duplicate ID's, as they may be legitimate. This would require further context and research.\n",
        "\n",
        "Duplicates are risky for Airbnb teams because they can easily lead to booking conflicts. If a rental is listed multiple times, it might be booked for the same dates by many people. This can lead to extremely negative customer experiences and brand damage. From a data perspective, duplicates distort findings and lead to inaccurate data. This could lead to poor decision making by Airbnb."
      ]
    },
    {
      "cell_type": "markdown",
      "metadata": {
        "id": "6a8Rc945m9PQ"
      },
      "source": [
        "## 7. Export Cleaned Data\n",
        "\n",
        "Before wrapping up, export your cleaned Airbnb dataset to a CSV file. You'll need this file for **Assignment 7**, where you'll perform data transformation techniques.\n",
        "\n",
        "Make sure your data has:\n",
        "- Cleaned and consistent column values\n",
        "- Proper data types for each column\n",
        "- Any unnecessary columns removed\n",
        "\n",
        "This file should be the version of your dataset that you’d feel confident sharing with a teammate or using for deeper analysis.\n",
        "\n",
        "\n",
        "\n",
        "```\n",
        "# Explanation:\n",
        "# - \"cleaned_airbnb_data.csv\" is the name of the file that will be saved\n",
        "# - index=False prevents pandas from writing row numbers into the CSV\n",
        "# - The file will be saved to your working directory (in Colab, you'll need to download it manually. Once you see the data in your files tab, just click on the three dots, then click “download”)\n",
        "# - YOU MAY NEED TO PRESS “RUN” MULTIPLE TIMES IN ORDER FOR IT TO SHOW UP\n",
        "# - FOR SOME DEVICES, IT MAY TAKE A FEW MINUTES BEFORE YOUR FILE SHOWS UP\n",
        "\n",
        "```\n",
        "\n",
        "\n",
        "\n"
      ]
    },
    {
      "cell_type": "code",
      "execution_count": 26,
      "metadata": {
        "id": "SYjYwyYonTi9"
      },
      "outputs": [],
      "source": [
        "df.to_csv('cleaned_airbnb_data.csv', index=False)"
      ]
    },
    {
      "cell_type": "markdown",
      "metadata": {
        "id": "HrhzfHDRSfkr"
      },
      "source": [
        "## 8. Final Reflection\n",
        "\n",
        "You’ve just cleaned a real-world Airbnb dataset — the kind of work that happens every day in analyst and data science roles.\n",
        "\n",
        "Before you move on to data transformation in Assignment 7, take a few moments to reflect on the decisions you made and what you learned.\n",
        "\n",
        "### In your markdown:\n",
        "1. What was the most surprising or challenging part of cleaning this dataset?\n",
        "2. How did you decide which data to drop, fix, or keep?\n",
        "3. What’s one way a business team (e.g., hosts, pricing analysts, platform ops) might benefit from the cleaned version of this data?\n",
        "4. If you had more time, what would you explore or clean further?\n",
        "5. How does this relate to your customized learning outcome you created in canvas?\n",
        "\n",
        "\n",
        "Write your response clearly in full sentences. No more than a few sentences required per response.\n"
      ]
    },
    {
      "cell_type": "markdown",
      "metadata": {
        "id": "oAFnMYRqSd7A"
      },
      "source": [
        "The most surprising part of cleaning this dataset was that some values that I would expect to be numerical were in text format. I found this to be strange, as I can't understand why someone would record prices in text format.\n",
        "\n",
        "I decided what data to drop based on what I would want/need to see if I were making decisions on Airbnb's behalf. I knew I would want to see booking data, price, neighborhood, and other essential information. The columns I dropped were not things I would look for when making business decisions, so I cut them in order to clean up the data.\n",
        "\n",
        "\n",
        "Pricing analysts would greatly benefit from the cleaned version of this data because the prices are represented in numerical format, and are much easier to work with than they were before. The data has less superfluous information, and is simpler to work with.\n",
        "\n",
        "If I had more time, I would like to dive into this dataset more and change as many values to numerical/categorical as I could. I would try to eliminate text values as much as possible. I would also look further into outliers, and see if any work needed to be done in that area.\n",
        "\n",
        "In my customized learning outcome I created in Canvas, I specifically mentioned wanting to learn how to take data, manipuate it, and display it to make business decisions. This assignment allowed me to do that. It is not as difficult as I thought that it would be, and I can see the real-world application here. I appreciate that a lot."
      ]
    },
    {
      "cell_type": "markdown",
      "metadata": {
        "id": "MIzm-EIeS065"
      },
      "source": [
        "## Submission Instructions\n",
        "✅ Checklist:\n",
        "- All code cells run without error\n",
        "- All markdown responses are complete\n",
        "- Submit on Canvas as instructed"
      ]
    },
    {
      "cell_type": "code",
      "execution_count": 27,
      "metadata": {
        "colab": {
          "base_uri": "https://localhost:8080/"
        },
        "id": "Z7wECG-BhRSv",
        "outputId": "5b6dc14b-8da7-416d-f4c7-785ac00cbeb1"
      },
      "outputs": [
        {
          "output_type": "stream",
          "name": "stdout",
          "text": [
            "[NbConvertApp] Converting notebook assignment_06_data_cleaning.ipynb to html\n",
            "[NbConvertApp] WARNING | Alternative text is missing on 1 image(s).\n",
            "[NbConvertApp] Writing 460330 bytes to assignment_06_data_cleaning.html\n"
          ]
        }
      ],
      "source": [
        "!jupyter nbconvert --to html \"assignment_06_data_cleaning.ipynb\""
      ]
    }
  ],
  "metadata": {
    "colab": {
      "provenance": []
    },
    "kernelspec": {
      "display_name": "Python 3",
      "name": "python3"
    },
    "language_info": {
      "name": "python"
    }
  },
  "nbformat": 4,
  "nbformat_minor": 0
}