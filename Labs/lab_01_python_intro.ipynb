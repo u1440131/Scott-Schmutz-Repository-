{
  "cells": [
    {
      "cell_type": "markdown",
      "metadata": {
        "id": "xJxWWBkrp-JF"
      },
      "source": [
        "# IS 4487 Lab 1\n",
        "\n",
        "## Outline\n",
        "\n",
        "- Create and format cells in a notebook\n",
        "- Create basic variables in Python\n",
        "\n",
        "<a href=\"https://colab.research.google.com/github/Stan-Pugsley/is_4487_base/blob/main/Labs/lab_01_python_intro.ipynb\" target=\"_parent\"><img src=\"https://colab.research.google.com/assets/colab-badge.svg\" alt=\"Open In Colab\"/></a>\n",
        "\n",
        "If you have any questions about Colab, you can read more here:  https://research.google.com/colaboratory/faq.html"
      ]
    },
    {
      "cell_type": "markdown",
      "metadata": {
        "id": "R1TcObkMz6Je"
      },
      "source": [
        "## Your Turn: Work with the Python Notebook\n",
        "\n",
        "➡️ Assignment Tasks\n",
        "- Add a mathematical formula to add 15 and 22 in the cell below"
      ]
    },
    {
      "cell_type": "code",
      "execution_count": 3,
      "metadata": {
        "id": "q9D9aAk_p-JN",
        "colab": {
          "base_uri": "https://localhost:8080/"
        },
        "outputId": "fd1815d6-a001-409a-cf62-d482a4586f5a"
      },
      "outputs": [
        {
          "output_type": "stream",
          "name": "stdout",
          "text": [
            "37\n"
          ]
        }
      ],
      "source": [
        "print(15+22)"
      ]
    },
    {
      "cell_type": "markdown",
      "metadata": {
        "id": "11Cv-jhIz6Jf"
      },
      "source": [
        "➡️ Assignment Tasks\n",
        "Add a Markdown cell and write:\n",
        "\n",
        "- A heading.\n",
        "- Your major\n",
        "- Your favorite food"
      ]
    },
    {
      "cell_type": "markdown",
      "source": [
        "# About me\n",
        "\n",
        "My major is OSC.\n",
        "\n",
        "My favorite food is anything Italian."
      ],
      "metadata": {
        "id": "TsRAwhaE3O7c"
      }
    },
    {
      "cell_type": "markdown",
      "metadata": {
        "id": "x_8nGg1Hz6Jf"
      },
      "source": [
        "➡️ Assignment Tasks\n",
        "- Create a variable called \"x\" with the value \"Hello World\".  Print the value of the variable"
      ]
    },
    {
      "cell_type": "code",
      "execution_count": 4,
      "metadata": {
        "colab": {
          "base_uri": "https://localhost:8080/"
        },
        "id": "TvudcMjOz6Jf",
        "outputId": "8f12242e-48f2-4895-b83d-0b00a701d515"
      },
      "outputs": [
        {
          "output_type": "stream",
          "name": "stdout",
          "text": [
            "Hello World\n"
          ]
        }
      ],
      "source": [
        "x='Hello World'\n",
        "print(x)"
      ]
    },
    {
      "cell_type": "markdown",
      "metadata": {
        "id": "Q4HrntXVz6Jf"
      },
      "source": [
        "## Export Your Notebook to Submit in Canvas\n",
        "- In the top menu, go to File > Download, click \"Download .ipynb\"\n",
        "- In the left side menu, click the Folder icon, then click the \"Upload to Session Storage\" icon\n",
        "- Convert the file to HTML using the code below.  You will be asked to approve access to the files\n",
        "- Find the output file under Files in the left side menu\n",
        "- Download your HTML file as your completed assignment, to be uploaded to Canvas"
      ]
    },
    {
      "cell_type": "code",
      "execution_count": 5,
      "metadata": {
        "colab": {
          "base_uri": "https://localhost:8080/"
        },
        "id": "S-VxbhzRz6Jf",
        "outputId": "4e18dff6-c73a-481e-92af-2dd751a0e0e4"
      },
      "outputs": [
        {
          "output_type": "stream",
          "name": "stdout",
          "text": [
            "[NbConvertApp] Converting notebook lab_01_python_intro.ipynb to html\n",
            "[NbConvertApp] Writing 277078 bytes to lab_01_python_intro.html\n"
          ]
        }
      ],
      "source": [
        "!jupyter nbconvert --to html \"lab_01_python_intro.ipynb\""
      ]
    },
    {
      "cell_type": "markdown",
      "metadata": {
        "id": "FzIutpBvz6Jf"
      },
      "source": [
        "## Submit your assignment\n",
        "\n",
        "- Make sure that all of your output is shown.  If you get the “unable to render code block” error, try refreshing the cache or downloading raw data to manually upload into Colab as a workaround.\n",
        "- Upload your HTML file to Canvas\n",
        "- Optionally, save your file in your own GitHub account for future use\n"
      ]
    }
  ],
  "metadata": {
    "colab": {
      "provenance": []
    },
    "kernelspec": {
      "display_name": "Python 3",
      "name": "python3"
    },
    "language_info": {
      "name": "python"
    }
  },
  "nbformat": 4,
  "nbformat_minor": 0
}